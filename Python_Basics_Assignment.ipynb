{
  "nbformat": 4,
  "nbformat_minor": 0,
  "metadata": {
    "colab": {
      "provenance": []
    },
    "kernelspec": {
      "name": "python3",
      "display_name": "Python 3"
    },
    "language_info": {
      "name": "python"
    }
  },
  "cells": [
    {
      "cell_type": "markdown",
      "source": [
        "**1.Explain the key features of Python that make it a popular choice for programming** **bold text**\n",
        "\n",
        "Ans - Python is popular because it’s easy to read and write, making it great for beginners. It has a huge library of tools that help you build almost anything—from websites to data analysis to artificial intelligence. With a large user base, Python has extensive community support, meaning more tutorials, forums, and resources to help you solve issues and learn faster.It is compatible with various programming paradigms, such as procedural object-oriented, and functional programming."
      ],
      "metadata": {
        "id": "C40OPXraJupV"
      }
    },
    {
      "cell_type": "markdown",
      "source": [
        "**2.Describe the role of predefined keywords in Python and provide examples of how they are used in a program**\n",
        "\n",
        "Ans - Predefined keywords in Python are reserved words have special meanings and cannot be used as identifiers (variable names, function names, etc.) Examples of keywords include if, else, while, for, def, class, import, try, except, return, True, False, None, etc. Keywords are case-sensitive and cannot be redefined or overridden within a Python program. Below are the examples of how they are used in a program"
      ],
      "metadata": {
        "id": "zYPaxJ_VKLcw"
      }
    },
    {
      "cell_type": "code",
      "source": [
        "#example 1\n",
        "age = 18\n",
        "if age >= 18:\n",
        "    print(\"You can vote.\")\n",
        "else:\n",
        "    print(\"You cannot vote.\")"
      ],
      "metadata": {
        "colab": {
          "base_uri": "https://localhost:8080/"
        },
        "id": "MoVOQf6CKi4U",
        "outputId": "d286a79f-6547-444b-ef29-643dd602929d"
      },
      "execution_count": 4,
      "outputs": [
        {
          "output_type": "stream",
          "name": "stdout",
          "text": [
            "You can vote.\n"
          ]
        }
      ]
    },
    {
      "cell_type": "code",
      "source": [
        "#example 2\n",
        "n = 7\n",
        "i = 1\n",
        "while i < n:\n",
        "    print(i)\n",
        "    i = i+1"
      ],
      "metadata": {
        "colab": {
          "base_uri": "https://localhost:8080/"
        },
        "id": "zLes9r-mK-lp",
        "outputId": "9e630142-8917-4134-f549-f961443703cb"
      },
      "execution_count": 5,
      "outputs": [
        {
          "output_type": "stream",
          "name": "stdout",
          "text": [
            "1\n",
            "2\n",
            "3\n",
            "4\n",
            "5\n",
            "6\n"
          ]
        }
      ]
    },
    {
      "cell_type": "code",
      "source": [
        "#example 3\n",
        "for i in range(5):\n",
        "    print(i)"
      ],
      "metadata": {
        "colab": {
          "base_uri": "https://localhost:8080/"
        },
        "id": "2_SlNdz8MNpb",
        "outputId": "513b0327-08bc-48b7-daf9-ff732be6b02e"
      },
      "execution_count": 8,
      "outputs": [
        {
          "output_type": "stream",
          "name": "stdout",
          "text": [
            "0\n",
            "1\n",
            "2\n",
            "3\n",
            "4\n"
          ]
        }
      ]
    },
    {
      "cell_type": "code",
      "source": [
        "#example 4\n",
        "#print the even no\n",
        "for i in range(10):\n",
        "    if i%2 != 0:\n",
        "        continue\n",
        "    print(i)"
      ],
      "metadata": {
        "colab": {
          "base_uri": "https://localhost:8080/"
        },
        "id": "CBn49JM2MZgl",
        "outputId": "9fc3dd08-f5e7-45d5-d267-d74c6c06d25c"
      },
      "execution_count": 9,
      "outputs": [
        {
          "output_type": "stream",
          "name": "stdout",
          "text": [
            "0\n",
            "2\n",
            "4\n",
            "6\n",
            "8\n"
          ]
        }
      ]
    },
    {
      "cell_type": "code",
      "source": [
        "#example 5\n",
        "for i in range(5):\n",
        "    if i == 3:\n",
        "        break\n",
        "    print(i)\n"
      ],
      "metadata": {
        "colab": {
          "base_uri": "https://localhost:8080/"
        },
        "id": "XRI1JpoFMxal",
        "outputId": "2efe1d2e-f805-4f84-fd37-8fa8492a78f6"
      },
      "execution_count": 26,
      "outputs": [
        {
          "output_type": "stream",
          "name": "stdout",
          "text": [
            "0\n",
            "1\n",
            "2\n"
          ]
        }
      ]
    },
    {
      "cell_type": "markdown",
      "source": [
        "3**. Compare and contrast mutable and immutable objects in Python with examples**\n",
        "\n",
        "Ans - In Python, objects can be either changeable (modifiable) or unchangeable (unchangeable). Mutable objects, such as lists and dictionaries, can be modified after creation, while immutable objects, such as tuples and strings, cannot."
      ],
      "metadata": {
        "id": "nYClLzx2O7o7"
      }
    },
    {
      "cell_type": "code",
      "source": [
        "#Example of a mutable object (list):\n",
        "numbers = [1, 2, 3, 4, 5, 6, 7, \"siddhant\", \"dhole\", 25.65]\n",
        "print(\"Before:\", numbers)\n",
        "numbers.append(\"tennis\")\n",
        "print(\"After:\", numbers)\n"
      ],
      "metadata": {
        "colab": {
          "base_uri": "https://localhost:8080/"
        },
        "id": "9WebeGIRNwWK",
        "outputId": "2e31b2a9-7e63-4630-c16b-61bf21240696"
      },
      "execution_count": 33,
      "outputs": [
        {
          "output_type": "stream",
          "name": "stdout",
          "text": [
            "Before: [1, 2, 3, 4, 5, 6, 7, 'siddhant', 'dhole', 25.65]\n",
            "After: [1, 2, 3, 4, 5, 6, 7, 'siddhant', 'dhole', 25.65, 'tennis']\n"
          ]
        }
      ]
    },
    {
      "cell_type": "code",
      "source": [
        "#Example of an immutable object (tuples):\n",
        "a = (\"apple\", \"banana\", \"cherry\")\n",
        "a.remove(\"apple\")\n",
        "print(a)\n"
      ],
      "metadata": {
        "colab": {
          "base_uri": "https://localhost:8080/",
          "height": 193
        },
        "id": "uiy4YLrhRifq",
        "outputId": "b46061b1-a848-44dd-fd4f-58f4f904f477"
      },
      "execution_count": 39,
      "outputs": [
        {
          "output_type": "error",
          "ename": "AttributeError",
          "evalue": "'tuple' object has no attribute 'remove'",
          "traceback": [
            "\u001b[0;31m---------------------------------------------------------------------------\u001b[0m",
            "\u001b[0;31mAttributeError\u001b[0m                            Traceback (most recent call last)",
            "\u001b[0;32m<ipython-input-39-a79c191f46fc>\u001b[0m in \u001b[0;36m<cell line: 3>\u001b[0;34m()\u001b[0m\n\u001b[1;32m      1\u001b[0m \u001b[0;31m#Example of an immutable object (tuples):\u001b[0m\u001b[0;34m\u001b[0m\u001b[0;34m\u001b[0m\u001b[0m\n\u001b[1;32m      2\u001b[0m \u001b[0ma\u001b[0m \u001b[0;34m=\u001b[0m \u001b[0;34m(\u001b[0m\u001b[0;34m\"apple\"\u001b[0m\u001b[0;34m,\u001b[0m \u001b[0;34m\"banana\"\u001b[0m\u001b[0;34m,\u001b[0m \u001b[0;34m\"cherry\"\u001b[0m\u001b[0;34m)\u001b[0m\u001b[0;34m\u001b[0m\u001b[0;34m\u001b[0m\u001b[0m\n\u001b[0;32m----> 3\u001b[0;31m \u001b[0ma\u001b[0m\u001b[0;34m.\u001b[0m\u001b[0mremove\u001b[0m\u001b[0;34m(\u001b[0m\u001b[0;34m\"apple\"\u001b[0m\u001b[0;34m)\u001b[0m\u001b[0;34m\u001b[0m\u001b[0;34m\u001b[0m\u001b[0m\n\u001b[0m\u001b[1;32m      4\u001b[0m \u001b[0mprint\u001b[0m\u001b[0;34m(\u001b[0m\u001b[0ma\u001b[0m\u001b[0;34m)\u001b[0m\u001b[0;34m\u001b[0m\u001b[0;34m\u001b[0m\u001b[0m\n",
            "\u001b[0;31mAttributeError\u001b[0m: 'tuple' object has no attribute 'remove'"
          ]
        }
      ]
    },
    {
      "cell_type": "markdown",
      "source": [
        "It will throw an error because tuples in Python are immutable. This means that once a tuple is created, you cannot modify it (add, remove, or change elements). Therefore, methods like .remove() or .append() do not exist for tuples. To solve this first we have to convert an tuple into list and then try"
      ],
      "metadata": {
        "id": "v1eJwXFiZMbG"
      }
    },
    {
      "cell_type": "code",
      "source": [
        "#converting tuple into an list so that it can remove\n",
        "a = [\"apple\", \"banana\", \"cherry\"]\n",
        "a.remove(\"apple\")\n",
        "print(a)"
      ],
      "metadata": {
        "colab": {
          "base_uri": "https://localhost:8080/"
        },
        "id": "kRoSAa9HTBZ8",
        "outputId": "e21177fd-3736-4f8e-b7e7-508223d8bf94"
      },
      "execution_count": 41,
      "outputs": [
        {
          "output_type": "stream",
          "name": "stdout",
          "text": [
            "['banana', 'cherry']\n"
          ]
        }
      ]
    },
    {
      "cell_type": "markdown",
      "source": [
        "**4. Discuss the different types of operators in Python and provide examples of how they are used**\n",
        "\n",
        "Ans - Operators are special symbols or keywords that are used to carry out specific actions on numbers or variables in Python expressions. Python supports various types of operators, including arithmetic operators (+, -, *, /), comparison operators (==, !=, <, >), logical operators (and, or, not), assignment operators (=, +=, -=, *=, /=), etc. Here’s a breakdown of the main types of operators and examples for each:"
      ],
      "metadata": {
        "id": "p4ut4d39bMgH"
      }
    },
    {
      "cell_type": "code",
      "source": [
        "#Arithmetic Operators\n",
        "x = 10\n",
        "y = 3\n",
        "\n",
        "print(x + y) #  + (Addition): Adds two values.\n",
        "print(x - y) #  - (Subtraction): Subtracts one value from another.\n",
        "print(x * y) #  * (Multiplication): Multiplies two values.\n",
        "print(x / y) #  / (Division): Divides one value by another.\n",
        "print(x % y) #  % (Modulus): Returns the remainder of a division.\n",
        "print(x ** y)#  ** (Exponentiation): Raises a number to the power of another.\n",
        "print(x // y)#  // (Floor Division): Divides and rounds down to the nearest whole number."
      ],
      "metadata": {
        "colab": {
          "base_uri": "https://localhost:8080/"
        },
        "id": "MQNGV84Yckcg",
        "outputId": "1884beb8-b228-4e65-c20d-d2a2c7cc95f4"
      },
      "execution_count": 48,
      "outputs": [
        {
          "output_type": "stream",
          "name": "stdout",
          "text": [
            "13\n",
            "7\n",
            "30\n",
            "3.3333333333333335\n",
            "1\n",
            "1000\n",
            "3\n"
          ]
        }
      ]
    },
    {
      "cell_type": "code",
      "source": [
        "#Comparison Operators\n",
        "x = 5\n",
        "y = 10\n",
        "\n",
        "print(x == y)\n",
        "print(x != y)\n",
        "print(x > y)\n",
        "print(x < y)\n",
        "print(x >= y)\n",
        "print(x <= y)"
      ],
      "metadata": {
        "colab": {
          "base_uri": "https://localhost:8080/"
        },
        "id": "W5pT1-qwcvpH",
        "outputId": "92f0e079-3a5e-4a66-f33b-2e653433df91"
      },
      "execution_count": 1,
      "outputs": [
        {
          "output_type": "stream",
          "name": "stdout",
          "text": [
            "False\n",
            "True\n",
            "False\n",
            "True\n",
            "False\n",
            "True\n"
          ]
        }
      ]
    },
    {
      "cell_type": "code",
      "source": [
        "#Logical Operators\n",
        "x = 5\n",
        "y = 10\n",
        "\n",
        "print(x > 0 and y > 0)\n",
        "print(x > 10 or y < 0)\n",
        "print(not(x > 10))"
      ],
      "metadata": {
        "colab": {
          "base_uri": "https://localhost:8080/"
        },
        "id": "EAIbWTCOEYbm",
        "outputId": "8003f57b-04f8-4861-e266-e37f241a0c49"
      },
      "execution_count": 10,
      "outputs": [
        {
          "output_type": "stream",
          "name": "stdout",
          "text": [
            "True\n",
            "False\n",
            "True\n"
          ]
        }
      ]
    },
    {
      "cell_type": "code",
      "source": [
        "#Assignment Operators\n",
        "x = 5\n",
        "x += 3\n",
        "print(x)\n",
        "\n",
        "x *= 3\n",
        "print(x)\n",
        "\n",
        "x -= 3\n",
        "print(x)\n",
        "\n",
        "x /= 3\n",
        "print(x)\n",
        "\n",
        "x %= 3\n",
        "print(x)\n",
        "\n",
        "x **= 3\n",
        "print(x)\n",
        "\n",
        "x //= 3\n",
        "print(x)"
      ],
      "metadata": {
        "colab": {
          "base_uri": "https://localhost:8080/"
        },
        "id": "GWuiME-OE42y",
        "outputId": "8c53616c-be0e-4ed8-fba3-11a313eba4d4"
      },
      "execution_count": 16,
      "outputs": [
        {
          "output_type": "stream",
          "name": "stdout",
          "text": [
            "8\n",
            "24\n",
            "21\n",
            "7.0\n",
            "1.0\n",
            "1.0\n",
            "0.0\n"
          ]
        }
      ]
    },
    {
      "cell_type": "markdown",
      "source": [
        "**5. Explain the concept of type casting in Python with examples**\n",
        "\n",
        "Ans - Type casting, also referred to as type conversion, is the process of changing one data type to another in Python. Python provides built-in functions for type casting, such as int(), float(), str(), list(), tuple(), dict(), etc.Type casting is often necessary for performing arithmetic operations, data manipulation, and input/output operations in Python programs.\n",
        "There are two types of typecasting 1. Implicit 2. Explicit\n",
        "\n",
        "**Implicit Casting**: Python automatically converts types when it makes sense.\n",
        "\n",
        "**Explicit Casting**: We use type casting functions (int(), float(), str(), etc.) to manually convert types."
      ],
      "metadata": {
        "id": "unSedQ3AGzej"
      }
    },
    {
      "cell_type": "code",
      "source": [
        "#Examples of Type Casting\n",
        "#Converting Float to Integer\n",
        "a = 11.8\n",
        "a = int(num)\n",
        "print(a)"
      ],
      "metadata": {
        "colab": {
          "base_uri": "https://localhost:8080/"
        },
        "id": "ZNtl3Jd3F15b",
        "outputId": "13b693d4-50ba-422e-f291-b66eb2ed5446"
      },
      "execution_count": 29,
      "outputs": [
        {
          "output_type": "stream",
          "name": "stdout",
          "text": [
            "7\n"
          ]
        }
      ]
    },
    {
      "cell_type": "code",
      "source": [
        "#Converting String to Integer\n",
        "balls = \"6\"\n",
        "balls = int(balls)\n",
        "print(balls + 8)"
      ],
      "metadata": {
        "colab": {
          "base_uri": "https://localhost:8080/"
        },
        "id": "Sc_KHrf2THVi",
        "outputId": "b03759c8-ddfe-4048-c8ad-d5227130a677"
      },
      "execution_count": 22,
      "outputs": [
        {
          "output_type": "stream",
          "name": "stdout",
          "text": [
            "14\n"
          ]
        }
      ]
    },
    {
      "cell_type": "code",
      "source": [
        "#Converting Integer to String\n",
        "A = 10\n",
        "B = str(A)\n",
        "print(\"The number is \" + B)"
      ],
      "metadata": {
        "colab": {
          "base_uri": "https://localhost:8080/"
        },
        "id": "epwTCi8dTmXs",
        "outputId": "274a503f-5699-4453-ff63-07217a383899"
      },
      "execution_count": 23,
      "outputs": [
        {
          "output_type": "stream",
          "name": "stdout",
          "text": [
            "The number is 10\n"
          ]
        }
      ]
    },
    {
      "cell_type": "code",
      "source": [
        "#Converting to Boolean\n",
        "random_value = 2\n",
        "bool_value = bool(random_value)\n",
        "print(bool_value)"
      ],
      "metadata": {
        "colab": {
          "base_uri": "https://localhost:8080/"
        },
        "id": "Akw9B7enUdCE",
        "outputId": "064edc34-0a7e-47a2-95b4-459045c48836"
      },
      "execution_count": 25,
      "outputs": [
        {
          "output_type": "stream",
          "name": "stdout",
          "text": [
            "True\n"
          ]
        }
      ]
    },
    {
      "cell_type": "code",
      "source": [
        "#Converting List to String\n",
        "tennis = [\"racquet\", \"balls\", \"shoes\", \"dampener\"]\n",
        "tennis_str = str(tennis)\n",
        "print(tennis_str)"
      ],
      "metadata": {
        "colab": {
          "base_uri": "https://localhost:8080/"
        },
        "id": "7Il7ojTeUnEk",
        "outputId": "4441765e-2b27-46a1-f9eb-c502354d2897"
      },
      "execution_count": 28,
      "outputs": [
        {
          "output_type": "stream",
          "name": "stdout",
          "text": [
            "['racquet', 'balls', 'shoes', 'dampener']\n"
          ]
        }
      ]
    },
    {
      "cell_type": "markdown",
      "source": [
        "**6. How do conditional statements work in Python? Illustrate with examples**\n",
        "\n",
        "Ans - Conditional Statements in Python are used to execute code based on the evaluation of one or more conditions. Python supports conditional statements such as if, elif (else if), and else to control the flow of execution. Conditionals can be nested to handle multiple conditions and control different branches of execution based on the outcome of logical expressions."
      ],
      "metadata": {
        "id": "2agsx2F8WraQ"
      }
    },
    {
      "cell_type": "code",
      "source": [
        "#Example of Conditional Statements\n",
        "age = 20\n",
        "\n",
        "if age < 18:\n",
        "    print(\"You are a minor.\")\n",
        "elif age >= 18 and age < 65:\n",
        "    print(\"You are an adult.\")\n",
        "else:\n",
        "    print(\"You are a senior.\")"
      ],
      "metadata": {
        "colab": {
          "base_uri": "https://localhost:8080/"
        },
        "id": "BRfCJgyqW1HF",
        "outputId": "85297c74-921a-4fe1-c96e-9e71b8c875c6"
      },
      "execution_count": 31,
      "outputs": [
        {
          "output_type": "stream",
          "name": "stdout",
          "text": [
            "You are an adult.\n"
          ]
        }
      ]
    },
    {
      "cell_type": "code",
      "source": [
        "#Checking a Positive or Negative Number\n",
        "a = 18\n",
        "\n",
        "if a > 0:\n",
        "    print(\"Positive number\")\n",
        "elif a == 0:\n",
        "    print(\"Zero\")\n",
        "else:\n",
        "    print(\"Negative number\")"
      ],
      "metadata": {
        "colab": {
          "base_uri": "https://localhost:8080/"
        },
        "id": "ZBQRP7vdc5lH",
        "outputId": "39856db4-ff31-41fa-b2b5-9ecbb790cd42"
      },
      "execution_count": 38,
      "outputs": [
        {
          "output_type": "stream",
          "name": "stdout",
          "text": [
            "Positive number\n"
          ]
        }
      ]
    },
    {
      "cell_type": "markdown",
      "source": [
        "**7. Describe the different types of loops in Python and their use cases with examples.**\n",
        "\n",
        "Ans - In Python, loops are employed to repeat a sequence of actions or code until a specific condition is fulfilled. Python offers two primary types of loops: for loops and while loops. \"for” loops are used for iterating over a sequence of elements, while “while” loops are used for executing code until a specified condition becomes False"
      ],
      "metadata": {
        "id": "fejG8ieAdw6k"
      }
    },
    {
      "cell_type": "code",
      "source": [
        "#for Loop\n",
        "#\"for” loops are used for iterating over a sequence of elements\n",
        "#Example\n",
        "\n",
        "for i in range(1,9):\n",
        "    print(i)"
      ],
      "metadata": {
        "colab": {
          "base_uri": "https://localhost:8080/"
        },
        "id": "zaOAnhuXd59e",
        "outputId": "645a966d-bd86-4635-c284-935dfbd67cb3"
      },
      "execution_count": 44,
      "outputs": [
        {
          "output_type": "stream",
          "name": "stdout",
          "text": [
            "1\n",
            "2\n",
            "3\n",
            "4\n",
            "5\n",
            "6\n",
            "7\n",
            "8\n"
          ]
        }
      ]
    },
    {
      "cell_type": "code",
      "source": [
        "fruits = [\"apple\", \"banana\", \"cherry\"]\n",
        "for a in fruits:\n",
        "    print(a)"
      ],
      "metadata": {
        "colab": {
          "base_uri": "https://localhost:8080/"
        },
        "id": "QthNt_ENgYnM",
        "outputId": "9540c2b0-6ba2-4de2-cc9f-0b5ac02b69d0"
      },
      "execution_count": 47,
      "outputs": [
        {
          "output_type": "stream",
          "name": "stdout",
          "text": [
            "apple\n",
            "banana\n",
            "cherry\n"
          ]
        }
      ]
    },
    {
      "cell_type": "code",
      "source": [
        "#while Loop\n",
        "#“while” loops are used for executing code until a specified condition becomes False\n",
        "#Example\n",
        "count = 0\n",
        "while count < 5:\n",
        "    print(count)\n",
        "    count += 1"
      ],
      "metadata": {
        "colab": {
          "base_uri": "https://localhost:8080/"
        },
        "id": "ZJG54cgvgZIm",
        "outputId": "466eed63-ef36-465b-bab1-380605ca3c1f"
      },
      "execution_count": 48,
      "outputs": [
        {
          "output_type": "stream",
          "name": "stdout",
          "text": [
            "0\n",
            "1\n",
            "2\n",
            "3\n",
            "4\n"
          ]
        }
      ]
    },
    {
      "cell_type": "code",
      "source": [
        "#break and continue\n",
        "for num in range(10):\n",
        "    if num == 6:\n",
        "        break\n",
        "    print(num)"
      ],
      "metadata": {
        "colab": {
          "base_uri": "https://localhost:8080/"
        },
        "id": "-QCzRqa3hIaB",
        "outputId": "ce58fedc-87f5-43f8-d75c-deeb698d86be"
      },
      "execution_count": 51,
      "outputs": [
        {
          "output_type": "stream",
          "name": "stdout",
          "text": [
            "0\n",
            "1\n",
            "2\n",
            "3\n",
            "4\n",
            "5\n"
          ]
        }
      ]
    },
    {
      "cell_type": "code",
      "source": [
        "#continue\n",
        "for num in range(10):\n",
        "    if num == 2:\n",
        "        continue\n",
        "    print(num)"
      ],
      "metadata": {
        "colab": {
          "base_uri": "https://localhost:8080/"
        },
        "id": "-R60ZKtrhVMi",
        "outputId": "66713585-696a-4892-b462-6ea3266e821b"
      },
      "execution_count": 53,
      "outputs": [
        {
          "output_type": "stream",
          "name": "stdout",
          "text": [
            "0\n",
            "1\n",
            "3\n",
            "4\n",
            "5\n",
            "6\n",
            "7\n",
            "8\n",
            "9\n"
          ]
        }
      ]
    },
    {
      "cell_type": "code",
      "source": [],
      "metadata": {
        "id": "QYEqCpf5tWky"
      },
      "execution_count": null,
      "outputs": []
    }
  ]
}